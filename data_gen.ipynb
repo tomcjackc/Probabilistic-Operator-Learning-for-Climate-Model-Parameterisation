{
 "cells": [
  {
   "cell_type": "code",
   "execution_count": 32,
   "metadata": {},
   "outputs": [],
   "source": [
    "import pyqg\n",
    "from pyqg import diagnostic_tools as tools\n",
    "import numpy as np\n",
    "import matplotlib.pyplot as plt\n",
    "import xarray as xr\n",
    "from tqdm import tqdm"
   ]
  },
  {
   "cell_type": "code",
   "execution_count": null,
   "metadata": {},
   "outputs": [],
   "source": [
    "# Physical params\n",
    "\n",
    "L = 0.5e6 # length of the model domain / m\n",
    "rd = 1.5e4 # deformation scale / m\n",
    "rek = 5.787e-7 # linear bottom drag / s^-1\n",
    "dt = 3600 # time step / s\n",
    "delta_U_eddy = 0.025 # difference between flows at upper and lower layers / ms^-1\n",
    "H1 = 500 # thickness of the upper layer / m\n",
    "delta = 0.25 # ratio of the upper layer thickness to the lower layer thickness (H1/H2)\n",
    "beta = 1.5e-11 # beta parameter / m^-1s^-1\n",
    "\n",
    "# Experiment params\n",
    "n_years_run = 10 # number of years to run the model for\n",
    "n_years_start_av = 5 # number of years from which to average the data\n"
   ]
  },
  {
   "cell_type": "code",
   "execution_count": 48,
   "metadata": {},
   "outputs": [
    {
     "name": "stderr",
     "output_type": "stream",
     "text": [
      "INFO:  Logger initialized\n"
     ]
    }
   ],
   "source": [
    "year = 24*60*60*365. # = 31,536,000 = 3.2e7 s therefore 10 years = 3.2e8\n",
    "\n",
    "delta_U_eddy = 0.025\n",
    "eddy_128 = pyqg.QGModel(nx=128, tmax=10*year, twrite=10000, tavestart=5*year, beta=1.5e-11, rd=1.5e4, rek=5.787e-7, H1=500, delta=0.25, U1=delta_U_eddy, U2=0, L=0.5e6, dt=3600)\n",
    "eddy_128_gen = eddy_128.run_with_snapshots(tsnapint=int(year))\n",
    "\n",
    "for snapshot in tqdm(eddy_128_gen):\n",
    "    eddy_128_ds = eddy_128.to_dataset()[['q', 'u', 'v']]\n",
    "eddy_128_ds.to_netcdf('2d_data/eddy_config/medres/eddy_128.nc')\n"
   ]
  }
 ],
 "metadata": {
  "kernelspec": {
   "display_name": "mres2",
   "language": "python",
   "name": "python3"
  },
  "language_info": {
   "codemirror_mode": {
    "name": "ipython",
    "version": 3
   },
   "file_extension": ".py",
   "mimetype": "text/x-python",
   "name": "python",
   "nbconvert_exporter": "python",
   "pygments_lexer": "ipython3",
   "version": "3.10.14"
  }
 },
 "nbformat": 4,
 "nbformat_minor": 2
}

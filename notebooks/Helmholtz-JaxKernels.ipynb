{
 "cells": [
  {
   "cell_type": "markdown",
   "id": "056fd586",
   "metadata": {},
   "source": [
    "# Code used to get low-data regime result for Battle et al. (2024)\n",
    "\n",
    "Code reused from Battle et al. (2024). Used to generate Helmholtz low-data result for Table 4.5.\n",
    "\n",
    "CAUTION: Very memory-intensive for large `n_components` (>50)\n",
    "\n",
    "Our result used `Ntrain = 1000`, `n_components = 20`."
   ]
  },
  {
   "cell_type": "code",
   "execution_count": null,
   "id": "5ca7bac0",
   "metadata": {},
   "outputs": [],
   "source": [
    "import matplotlib.pyplot as plt\n",
    "from sklearn.decomposition import PCA\n",
    "from sklearn.linear_model import LinearRegression\n",
    "from sklearn.metrics import pairwise_distances\n",
    "import numpy as onp\n",
    "import jax\n",
    "import jax.numpy as np\n",
    "from jax import jit, vmap\n",
    "import matplotlib.pyplot as plt\n",
    "from tqdm.notebook import tqdm as t\n",
    "from ipywidgets import interact\n",
    "from jax import grad\n",
    "from jax.scipy.optimize import minimize\n",
    "from jax import config\n",
    "config.update(\"jax_enable_x64\", True)\n",
    "from jax.scipy.linalg import cholesky, cho_factor, cho_solve\n",
    "from jax.scipy.optimize import minimize\n",
    "from jaxopt import ProjectedGradient\n",
    "from jaxopt.projection import projection_box\n",
    "\n",
    "import pandas as pd"
   ]
  },
  {
   "cell_type": "code",
   "execution_count": null,
   "id": "a989201f",
   "metadata": {},
   "outputs": [],
   "source": [
    "Inputs = onp.load('../helmholtz_data/Helmholtz_inputs.npy')\n",
    "Outputs = onp.load('../helmholtz_data/Helmholtz_outputs.npy')"
   ]
  },
  {
   "cell_type": "code",
   "execution_count": null,
   "id": "7d27a7a7",
   "metadata": {},
   "outputs": [],
   "source": [
    "Inputs = Inputs.transpose((2,1,0))\n",
    "Outputs = Outputs.transpose((2,1,0))\n",
    "\n",
    "Inputs_fl = Inputs.reshape(len(Inputs), 101*101)\n",
    "Outputs_fl = Outputs.reshape(len(Outputs), 101*101)"
   ]
  },
  {
   "cell_type": "code",
   "execution_count": null,
   "id": "064bb8dd",
   "metadata": {},
   "outputs": [],
   "source": [
    "Ntrain = 1000"
   ]
  },
  {
   "cell_type": "code",
   "execution_count": null,
   "id": "01aafbee",
   "metadata": {},
   "outputs": [],
   "source": [
    "Xtr = Inputs_fl[:Ntrain]"
   ]
  },
  {
   "cell_type": "code",
   "execution_count": null,
   "id": "7ca9169b",
   "metadata": {},
   "outputs": [],
   "source": [
    "%%time\n",
    "pca = PCA(n_components=20)\n",
    "Xtr = pca.fit_transform(Xtr)"
   ]
  },
  {
   "cell_type": "code",
   "execution_count": null,
   "id": "43c9ddd5",
   "metadata": {},
   "outputs": [],
   "source": [
    "Xtest = pca.transform(Inputs_fl[Ntrain:])\n",
    "Ytr = Outputs_fl[:Ntrain]\n",
    "Ytest = Outputs_fl[Ntrain:]\n"
   ]
  },
  {
   "cell_type": "code",
   "execution_count": null,
   "id": "e56fe0eb",
   "metadata": {},
   "outputs": [],
   "source": [
    "def sqeuclidean_distances(x: np.ndarray, y: np.ndarray) -> float:\n",
    "    return np.sum( (x - y) ** 2)\n",
    "dists = jit(vmap(vmap(sqeuclidean_distances, in_axes=(None, 0)), in_axes=(0, None)))\n",
    "\n",
    "def euclidean_distances(x: np.ndarray, y: np.ndarray) -> float:\n",
    "    return np.sqrt(np.sum( (x - y) ** 2))\n",
    "sqdists = jit(vmap(vmap(euclidean_distances, in_axes=(None, 0)), in_axes=(0, None)))\n",
    "\n",
    "\n",
    "@jit\n",
    "def matern(v1, v2, sigma = 50):\n",
    "    #V1 is a [k1] vector\n",
    "    #V2 is a [k2] vector\n",
    "    #returns a k1xk2 matrix\n",
    "    d = sqdists(v1, v2)\n",
    "    #return a*np.exp(-d**2/sigma)\n",
    "    return (1+np.sqrt(5)*d/sigma +5*d**2/(3*sigma**2))*np.exp(-np.sqrt(5)*d/sigma)\n",
    "\n",
    "@jit\n",
    "def exp(v1, v2, sigma):\n",
    "    #V1 is a [k1] vector\n",
    "    #V2 is a [k2] vector\n",
    "    #returns a k1xk2 matrix\n",
    "    d = dists(v1, v2)\n",
    "    return np.exp(-d/sigma)\n",
    "    #return (1+np.sqrt(5)*d/sigma +5*d**2/(3*sigma**2))*np.exp(-np.sqrt(5)*d/sigma)\n",
    "\n",
    "@jit\n",
    "def iq(v1, v2, sigma):\n",
    "    #V1 is a [k1] vector\n",
    "    #V2 is a [k2] vector\n",
    "    #returns a k1xk2 matrix\n",
    "    d = dists(v1, v2)\n",
    "    #return a*np.exp(-d**2/sigma)\n",
    "    #return (1+np.sqrt(5)*d/sigma +5*d**2/(3*sigma**2))*np.exp(-np.sqrt(5)*d/sigma)\n",
    "    return 1/np.sqrt(d+sigma)"
   ]
  },
  {
   "cell_type": "code",
   "execution_count": null,
   "id": "07420f49",
   "metadata": {},
   "outputs": [],
   "source": [
    "nugget = 1e-8"
   ]
  },
  {
   "cell_type": "code",
   "execution_count": null,
   "id": "f399a568",
   "metadata": {},
   "outputs": [],
   "source": [
    "def aux(kernel, s, nugget):\n",
    "    k = kernel\n",
    "    Kxx = k(Xtr, Xtr, s)\n",
    "    nuggeted_matrix = Kxx.at[np.diag_indices_from(Kxx)].add(nugget)\n",
    "    L = cho_factor(nuggeted_matrix)\n",
    "    result = cho_solve(L, Ytr)\n",
    "    Train_pred = Kxx@result #train predictions\n",
    "    K_te_tr = k(Xtest, Xtr, s)\n",
    "    Test_pred = K_te_tr@result #test predictions\n",
    "\n",
    "    print(Test_pred.shape)\n",
    "    print(Ytest.shape)\n",
    "\n",
    "    np.mean(np.linalg.norm(Ytr-Train_pred, axis = 1))\n",
    "\n",
    "    aux1 = np.mean(np.linalg.norm(Ytr-Train_pred, axis = 1))\n",
    "    aux2 = np.mean(np.linalg.norm(Train_pred-Ytr, axis = 1)/np.linalg.norm(Ytr, axis = 1))\n",
    "    aux3 = np.mean(np.linalg.norm(Ytest-Test_pred, axis = 1))\n",
    "    aux4 = np.mean(np.linalg.norm(Ytest-Test_pred, axis = 1)/np.linalg.norm(Ytest, axis = 1))\n",
    "\n",
    "    print(s, nugget)\n",
    "    print(\"\\n Train error (abs): {0} \\n Train error (rel): {1} \\n Test error (abs): {2} \\n Test error (rel): {3}\".format(aux1, aux2, aux3, aux4))\n",
    "    print('---')"
   ]
  },
  {
   "cell_type": "code",
   "execution_count": null,
   "id": "53f5f1fc",
   "metadata": {},
   "outputs": [],
   "source": [
    "for kernel in [matern]:\n",
    "    for s in [600, 700, 800, 900, 1000]:\n",
    "        for nugget in [1e-8]:\n",
    "            aux(kernel, s, nugget)"
   ]
  }
 ],
 "metadata": {
  "kernelspec": {
   "display_name": "Python 3 (ipykernel)",
   "language": "python",
   "name": "python3"
  },
  "language_info": {
   "codemirror_mode": {
    "name": "ipython",
    "version": 3
   },
   "file_extension": ".py",
   "mimetype": "text/x-python",
   "name": "python",
   "nbconvert_exporter": "python",
   "pygments_lexer": "ipython3",
   "version": "3.10.14"
  }
 },
 "nbformat": 4,
 "nbformat_minor": 5
}

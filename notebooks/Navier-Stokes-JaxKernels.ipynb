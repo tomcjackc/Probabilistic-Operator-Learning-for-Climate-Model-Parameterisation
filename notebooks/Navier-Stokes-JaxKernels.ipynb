{
 "cells": [
  {
   "cell_type": "code",
   "execution_count": 1,
   "id": "5ca7bac0",
   "metadata": {},
   "outputs": [],
   "source": [
    "import matplotlib.pyplot as plt\n",
    "from sklearn.decomposition import PCA\n",
    "from sklearn.linear_model import LinearRegression\n",
    "from sklearn.metrics import pairwise_distances\n",
    "import numpy as onp\n",
    "import jax\n",
    "import jax.numpy as np\n",
    "from jax import jit, vmap\n",
    "import matplotlib.pyplot as plt\n",
    "from tqdm.notebook import tqdm as t\n",
    "from ipywidgets import interact\n",
    "from jax import grad\n",
    "from jax.scipy.optimize import minimize\n",
    "from jax import config\n",
    "config.update(\"jax_enable_x64\", True)\n",
    "\n",
    "from jax.scipy.linalg import cholesky, cho_factor, cho_solve\n",
    "from jax.scipy.optimize import minimize\n",
    "from jaxopt import ProjectedGradient\n",
    "from jaxopt.projection import projection_box\n",
    "\n",
    "import pandas as pd"
   ]
  },
  {
   "cell_type": "code",
   "execution_count": 2,
   "id": "100fc64e",
   "metadata": {},
   "outputs": [],
   "source": [
    "import pandas as pd"
   ]
  },
  {
   "cell_type": "code",
   "execution_count": 3,
   "id": "1a79b907",
   "metadata": {},
   "outputs": [
    {
     "ename": "FileNotFoundError",
     "evalue": "[Errno 2] No such file or directory: 'data/PCA_NS.csv'",
     "output_type": "error",
     "traceback": [
      "\u001b[0;31m---------------------------------------------------------------------------\u001b[0m",
      "\u001b[0;31mFileNotFoundError\u001b[0m                         Traceback (most recent call last)",
      "Cell \u001b[0;32mIn[3], line 1\u001b[0m\n\u001b[0;32m----> 1\u001b[0m PCANet \u001b[38;5;241m=\u001b[39m \u001b[43mpd\u001b[49m\u001b[38;5;241;43m.\u001b[39;49m\u001b[43mread_csv\u001b[49m\u001b[43m(\u001b[49m\u001b[38;5;124;43m\"\u001b[39;49m\u001b[38;5;124;43mdata/PCA_NS.csv\u001b[39;49m\u001b[38;5;124;43m\"\u001b[39;49m\u001b[43m,\u001b[49m\u001b[43m \u001b[49m\u001b[43mheader\u001b[49m\u001b[43m \u001b[49m\u001b[38;5;241;43m=\u001b[39;49m\u001b[43m \u001b[49m\u001b[38;5;28;43;01mNone\u001b[39;49;00m\u001b[43m)\u001b[49m\u001b[38;5;241m.\u001b[39mto_numpy()\n\u001b[1;32m      2\u001b[0m DeepONet \u001b[38;5;241m=\u001b[39m pd\u001b[38;5;241m.\u001b[39mread_csv(\u001b[38;5;124m\"\u001b[39m\u001b[38;5;124mdata/DeepONet_NS.csv\u001b[39m\u001b[38;5;124m\"\u001b[39m, header \u001b[38;5;241m=\u001b[39m \u001b[38;5;28;01mNone\u001b[39;00m)\u001b[38;5;241m.\u001b[39mto_numpy()\n\u001b[1;32m      3\u001b[0m Para \u001b[38;5;241m=\u001b[39m pd\u001b[38;5;241m.\u001b[39mread_csv(\u001b[38;5;124m\"\u001b[39m\u001b[38;5;124mdata/PARA_NS.csv\u001b[39m\u001b[38;5;124m\"\u001b[39m, header \u001b[38;5;241m=\u001b[39m \u001b[38;5;28;01mNone\u001b[39;00m)\u001b[38;5;241m.\u001b[39mto_numpy()\n",
      "File \u001b[0;32m~/opt/anaconda3/envs/mres2/lib/python3.10/site-packages/pandas/io/parsers/readers.py:1026\u001b[0m, in \u001b[0;36mread_csv\u001b[0;34m(filepath_or_buffer, sep, delimiter, header, names, index_col, usecols, dtype, engine, converters, true_values, false_values, skipinitialspace, skiprows, skipfooter, nrows, na_values, keep_default_na, na_filter, verbose, skip_blank_lines, parse_dates, infer_datetime_format, keep_date_col, date_parser, date_format, dayfirst, cache_dates, iterator, chunksize, compression, thousands, decimal, lineterminator, quotechar, quoting, doublequote, escapechar, comment, encoding, encoding_errors, dialect, on_bad_lines, delim_whitespace, low_memory, memory_map, float_precision, storage_options, dtype_backend)\u001b[0m\n\u001b[1;32m   1013\u001b[0m kwds_defaults \u001b[38;5;241m=\u001b[39m _refine_defaults_read(\n\u001b[1;32m   1014\u001b[0m     dialect,\n\u001b[1;32m   1015\u001b[0m     delimiter,\n\u001b[0;32m   (...)\u001b[0m\n\u001b[1;32m   1022\u001b[0m     dtype_backend\u001b[38;5;241m=\u001b[39mdtype_backend,\n\u001b[1;32m   1023\u001b[0m )\n\u001b[1;32m   1024\u001b[0m kwds\u001b[38;5;241m.\u001b[39mupdate(kwds_defaults)\n\u001b[0;32m-> 1026\u001b[0m \u001b[38;5;28;01mreturn\u001b[39;00m \u001b[43m_read\u001b[49m\u001b[43m(\u001b[49m\u001b[43mfilepath_or_buffer\u001b[49m\u001b[43m,\u001b[49m\u001b[43m \u001b[49m\u001b[43mkwds\u001b[49m\u001b[43m)\u001b[49m\n",
      "File \u001b[0;32m~/opt/anaconda3/envs/mres2/lib/python3.10/site-packages/pandas/io/parsers/readers.py:620\u001b[0m, in \u001b[0;36m_read\u001b[0;34m(filepath_or_buffer, kwds)\u001b[0m\n\u001b[1;32m    617\u001b[0m _validate_names(kwds\u001b[38;5;241m.\u001b[39mget(\u001b[38;5;124m\"\u001b[39m\u001b[38;5;124mnames\u001b[39m\u001b[38;5;124m\"\u001b[39m, \u001b[38;5;28;01mNone\u001b[39;00m))\n\u001b[1;32m    619\u001b[0m \u001b[38;5;66;03m# Create the parser.\u001b[39;00m\n\u001b[0;32m--> 620\u001b[0m parser \u001b[38;5;241m=\u001b[39m \u001b[43mTextFileReader\u001b[49m\u001b[43m(\u001b[49m\u001b[43mfilepath_or_buffer\u001b[49m\u001b[43m,\u001b[49m\u001b[43m \u001b[49m\u001b[38;5;241;43m*\u001b[39;49m\u001b[38;5;241;43m*\u001b[39;49m\u001b[43mkwds\u001b[49m\u001b[43m)\u001b[49m\n\u001b[1;32m    622\u001b[0m \u001b[38;5;28;01mif\u001b[39;00m chunksize \u001b[38;5;129;01mor\u001b[39;00m iterator:\n\u001b[1;32m    623\u001b[0m     \u001b[38;5;28;01mreturn\u001b[39;00m parser\n",
      "File \u001b[0;32m~/opt/anaconda3/envs/mres2/lib/python3.10/site-packages/pandas/io/parsers/readers.py:1620\u001b[0m, in \u001b[0;36mTextFileReader.__init__\u001b[0;34m(self, f, engine, **kwds)\u001b[0m\n\u001b[1;32m   1617\u001b[0m     \u001b[38;5;28mself\u001b[39m\u001b[38;5;241m.\u001b[39moptions[\u001b[38;5;124m\"\u001b[39m\u001b[38;5;124mhas_index_names\u001b[39m\u001b[38;5;124m\"\u001b[39m] \u001b[38;5;241m=\u001b[39m kwds[\u001b[38;5;124m\"\u001b[39m\u001b[38;5;124mhas_index_names\u001b[39m\u001b[38;5;124m\"\u001b[39m]\n\u001b[1;32m   1619\u001b[0m \u001b[38;5;28mself\u001b[39m\u001b[38;5;241m.\u001b[39mhandles: IOHandles \u001b[38;5;241m|\u001b[39m \u001b[38;5;28;01mNone\u001b[39;00m \u001b[38;5;241m=\u001b[39m \u001b[38;5;28;01mNone\u001b[39;00m\n\u001b[0;32m-> 1620\u001b[0m \u001b[38;5;28mself\u001b[39m\u001b[38;5;241m.\u001b[39m_engine \u001b[38;5;241m=\u001b[39m \u001b[38;5;28;43mself\u001b[39;49m\u001b[38;5;241;43m.\u001b[39;49m\u001b[43m_make_engine\u001b[49m\u001b[43m(\u001b[49m\u001b[43mf\u001b[49m\u001b[43m,\u001b[49m\u001b[43m \u001b[49m\u001b[38;5;28;43mself\u001b[39;49m\u001b[38;5;241;43m.\u001b[39;49m\u001b[43mengine\u001b[49m\u001b[43m)\u001b[49m\n",
      "File \u001b[0;32m~/opt/anaconda3/envs/mres2/lib/python3.10/site-packages/pandas/io/parsers/readers.py:1880\u001b[0m, in \u001b[0;36mTextFileReader._make_engine\u001b[0;34m(self, f, engine)\u001b[0m\n\u001b[1;32m   1878\u001b[0m     \u001b[38;5;28;01mif\u001b[39;00m \u001b[38;5;124m\"\u001b[39m\u001b[38;5;124mb\u001b[39m\u001b[38;5;124m\"\u001b[39m \u001b[38;5;129;01mnot\u001b[39;00m \u001b[38;5;129;01min\u001b[39;00m mode:\n\u001b[1;32m   1879\u001b[0m         mode \u001b[38;5;241m+\u001b[39m\u001b[38;5;241m=\u001b[39m \u001b[38;5;124m\"\u001b[39m\u001b[38;5;124mb\u001b[39m\u001b[38;5;124m\"\u001b[39m\n\u001b[0;32m-> 1880\u001b[0m \u001b[38;5;28mself\u001b[39m\u001b[38;5;241m.\u001b[39mhandles \u001b[38;5;241m=\u001b[39m \u001b[43mget_handle\u001b[49m\u001b[43m(\u001b[49m\n\u001b[1;32m   1881\u001b[0m \u001b[43m    \u001b[49m\u001b[43mf\u001b[49m\u001b[43m,\u001b[49m\n\u001b[1;32m   1882\u001b[0m \u001b[43m    \u001b[49m\u001b[43mmode\u001b[49m\u001b[43m,\u001b[49m\n\u001b[1;32m   1883\u001b[0m \u001b[43m    \u001b[49m\u001b[43mencoding\u001b[49m\u001b[38;5;241;43m=\u001b[39;49m\u001b[38;5;28;43mself\u001b[39;49m\u001b[38;5;241;43m.\u001b[39;49m\u001b[43moptions\u001b[49m\u001b[38;5;241;43m.\u001b[39;49m\u001b[43mget\u001b[49m\u001b[43m(\u001b[49m\u001b[38;5;124;43m\"\u001b[39;49m\u001b[38;5;124;43mencoding\u001b[39;49m\u001b[38;5;124;43m\"\u001b[39;49m\u001b[43m,\u001b[49m\u001b[43m \u001b[49m\u001b[38;5;28;43;01mNone\u001b[39;49;00m\u001b[43m)\u001b[49m\u001b[43m,\u001b[49m\n\u001b[1;32m   1884\u001b[0m \u001b[43m    \u001b[49m\u001b[43mcompression\u001b[49m\u001b[38;5;241;43m=\u001b[39;49m\u001b[38;5;28;43mself\u001b[39;49m\u001b[38;5;241;43m.\u001b[39;49m\u001b[43moptions\u001b[49m\u001b[38;5;241;43m.\u001b[39;49m\u001b[43mget\u001b[49m\u001b[43m(\u001b[49m\u001b[38;5;124;43m\"\u001b[39;49m\u001b[38;5;124;43mcompression\u001b[39;49m\u001b[38;5;124;43m\"\u001b[39;49m\u001b[43m,\u001b[49m\u001b[43m \u001b[49m\u001b[38;5;28;43;01mNone\u001b[39;49;00m\u001b[43m)\u001b[49m\u001b[43m,\u001b[49m\n\u001b[1;32m   1885\u001b[0m \u001b[43m    \u001b[49m\u001b[43mmemory_map\u001b[49m\u001b[38;5;241;43m=\u001b[39;49m\u001b[38;5;28;43mself\u001b[39;49m\u001b[38;5;241;43m.\u001b[39;49m\u001b[43moptions\u001b[49m\u001b[38;5;241;43m.\u001b[39;49m\u001b[43mget\u001b[49m\u001b[43m(\u001b[49m\u001b[38;5;124;43m\"\u001b[39;49m\u001b[38;5;124;43mmemory_map\u001b[39;49m\u001b[38;5;124;43m\"\u001b[39;49m\u001b[43m,\u001b[49m\u001b[43m \u001b[49m\u001b[38;5;28;43;01mFalse\u001b[39;49;00m\u001b[43m)\u001b[49m\u001b[43m,\u001b[49m\n\u001b[1;32m   1886\u001b[0m \u001b[43m    \u001b[49m\u001b[43mis_text\u001b[49m\u001b[38;5;241;43m=\u001b[39;49m\u001b[43mis_text\u001b[49m\u001b[43m,\u001b[49m\n\u001b[1;32m   1887\u001b[0m \u001b[43m    \u001b[49m\u001b[43merrors\u001b[49m\u001b[38;5;241;43m=\u001b[39;49m\u001b[38;5;28;43mself\u001b[39;49m\u001b[38;5;241;43m.\u001b[39;49m\u001b[43moptions\u001b[49m\u001b[38;5;241;43m.\u001b[39;49m\u001b[43mget\u001b[49m\u001b[43m(\u001b[49m\u001b[38;5;124;43m\"\u001b[39;49m\u001b[38;5;124;43mencoding_errors\u001b[39;49m\u001b[38;5;124;43m\"\u001b[39;49m\u001b[43m,\u001b[49m\u001b[43m \u001b[49m\u001b[38;5;124;43m\"\u001b[39;49m\u001b[38;5;124;43mstrict\u001b[39;49m\u001b[38;5;124;43m\"\u001b[39;49m\u001b[43m)\u001b[49m\u001b[43m,\u001b[49m\n\u001b[1;32m   1888\u001b[0m \u001b[43m    \u001b[49m\u001b[43mstorage_options\u001b[49m\u001b[38;5;241;43m=\u001b[39;49m\u001b[38;5;28;43mself\u001b[39;49m\u001b[38;5;241;43m.\u001b[39;49m\u001b[43moptions\u001b[49m\u001b[38;5;241;43m.\u001b[39;49m\u001b[43mget\u001b[49m\u001b[43m(\u001b[49m\u001b[38;5;124;43m\"\u001b[39;49m\u001b[38;5;124;43mstorage_options\u001b[39;49m\u001b[38;5;124;43m\"\u001b[39;49m\u001b[43m,\u001b[49m\u001b[43m \u001b[49m\u001b[38;5;28;43;01mNone\u001b[39;49;00m\u001b[43m)\u001b[49m\u001b[43m,\u001b[49m\n\u001b[1;32m   1889\u001b[0m \u001b[43m\u001b[49m\u001b[43m)\u001b[49m\n\u001b[1;32m   1890\u001b[0m \u001b[38;5;28;01massert\u001b[39;00m \u001b[38;5;28mself\u001b[39m\u001b[38;5;241m.\u001b[39mhandles \u001b[38;5;129;01mis\u001b[39;00m \u001b[38;5;129;01mnot\u001b[39;00m \u001b[38;5;28;01mNone\u001b[39;00m\n\u001b[1;32m   1891\u001b[0m f \u001b[38;5;241m=\u001b[39m \u001b[38;5;28mself\u001b[39m\u001b[38;5;241m.\u001b[39mhandles\u001b[38;5;241m.\u001b[39mhandle\n",
      "File \u001b[0;32m~/opt/anaconda3/envs/mres2/lib/python3.10/site-packages/pandas/io/common.py:873\u001b[0m, in \u001b[0;36mget_handle\u001b[0;34m(path_or_buf, mode, encoding, compression, memory_map, is_text, errors, storage_options)\u001b[0m\n\u001b[1;32m    868\u001b[0m \u001b[38;5;28;01melif\u001b[39;00m \u001b[38;5;28misinstance\u001b[39m(handle, \u001b[38;5;28mstr\u001b[39m):\n\u001b[1;32m    869\u001b[0m     \u001b[38;5;66;03m# Check whether the filename is to be opened in binary mode.\u001b[39;00m\n\u001b[1;32m    870\u001b[0m     \u001b[38;5;66;03m# Binary mode does not support 'encoding' and 'newline'.\u001b[39;00m\n\u001b[1;32m    871\u001b[0m     \u001b[38;5;28;01mif\u001b[39;00m ioargs\u001b[38;5;241m.\u001b[39mencoding \u001b[38;5;129;01mand\u001b[39;00m \u001b[38;5;124m\"\u001b[39m\u001b[38;5;124mb\u001b[39m\u001b[38;5;124m\"\u001b[39m \u001b[38;5;129;01mnot\u001b[39;00m \u001b[38;5;129;01min\u001b[39;00m ioargs\u001b[38;5;241m.\u001b[39mmode:\n\u001b[1;32m    872\u001b[0m         \u001b[38;5;66;03m# Encoding\u001b[39;00m\n\u001b[0;32m--> 873\u001b[0m         handle \u001b[38;5;241m=\u001b[39m \u001b[38;5;28;43mopen\u001b[39;49m\u001b[43m(\u001b[49m\n\u001b[1;32m    874\u001b[0m \u001b[43m            \u001b[49m\u001b[43mhandle\u001b[49m\u001b[43m,\u001b[49m\n\u001b[1;32m    875\u001b[0m \u001b[43m            \u001b[49m\u001b[43mioargs\u001b[49m\u001b[38;5;241;43m.\u001b[39;49m\u001b[43mmode\u001b[49m\u001b[43m,\u001b[49m\n\u001b[1;32m    876\u001b[0m \u001b[43m            \u001b[49m\u001b[43mencoding\u001b[49m\u001b[38;5;241;43m=\u001b[39;49m\u001b[43mioargs\u001b[49m\u001b[38;5;241;43m.\u001b[39;49m\u001b[43mencoding\u001b[49m\u001b[43m,\u001b[49m\n\u001b[1;32m    877\u001b[0m \u001b[43m            \u001b[49m\u001b[43merrors\u001b[49m\u001b[38;5;241;43m=\u001b[39;49m\u001b[43merrors\u001b[49m\u001b[43m,\u001b[49m\n\u001b[1;32m    878\u001b[0m \u001b[43m            \u001b[49m\u001b[43mnewline\u001b[49m\u001b[38;5;241;43m=\u001b[39;49m\u001b[38;5;124;43m\"\u001b[39;49m\u001b[38;5;124;43m\"\u001b[39;49m\u001b[43m,\u001b[49m\n\u001b[1;32m    879\u001b[0m \u001b[43m        \u001b[49m\u001b[43m)\u001b[49m\n\u001b[1;32m    880\u001b[0m     \u001b[38;5;28;01melse\u001b[39;00m:\n\u001b[1;32m    881\u001b[0m         \u001b[38;5;66;03m# Binary mode\u001b[39;00m\n\u001b[1;32m    882\u001b[0m         handle \u001b[38;5;241m=\u001b[39m \u001b[38;5;28mopen\u001b[39m(handle, ioargs\u001b[38;5;241m.\u001b[39mmode)\n",
      "\u001b[0;31mFileNotFoundError\u001b[0m: [Errno 2] No such file or directory: 'data/PCA_NS.csv'"
     ]
    }
   ],
   "source": [
    "PCANet = pd.read_csv(\"data/PCA_NS.csv\", header = None).to_numpy()\n",
    "DeepONet = pd.read_csv(\"data/DeepONet_NS.csv\", header = None).to_numpy()\n",
    "Para = pd.read_csv(\"data/PARA_NS.csv\", header = None).to_numpy()\n",
    "FNO = pd.read_csv(\"data/FNO_NS.csv\", header = None).to_numpy()"
   ]
  },
  {
   "cell_type": "code",
   "execution_count": null,
   "id": "4bf4febc",
   "metadata": {},
   "outputs": [
    {
     "data": {
      "text/plain": [
       "(DeviceArray(0.02654266, dtype=float64),\n",
       " DeviceArray(0.00259586, dtype=float64),\n",
       " DeviceArray(0.03629472, dtype=float64),\n",
       " DeviceArray(0.04088747, dtype=float64))"
      ]
     },
     "execution_count": 4,
     "metadata": {},
     "output_type": "execute_result"
    }
   ],
   "source": [
    "np.min(PCANet[:,4]), np.min(FNO[:,4]), np.min(DeepONet[:, 4]), np.min(Para[:, 4])"
   ]
  },
  {
   "cell_type": "code",
   "execution_count": 5,
   "id": "6c5e4ba4",
   "metadata": {},
   "outputs": [],
   "source": [
    "#The columns = [Nexamples, network width, Train, Test]"
   ]
  },
  {
   "cell_type": "code",
   "execution_count": 4,
   "id": "a989201f",
   "metadata": {},
   "outputs": [],
   "source": [
    "Inputs = np.load('../navier_stokes_data/NavierStokes_inputs.npy')\n",
    "Outputs = np.load('../navier_stokes_data/NavierStokes_outputs.npy')"
   ]
  },
  {
   "cell_type": "code",
   "execution_count": 5,
   "id": "2f967df0",
   "metadata": {
    "scrolled": true
   },
   "outputs": [
    {
     "data": {
      "text/plain": [
       "(64, 64, 40000)"
      ]
     },
     "execution_count": 5,
     "metadata": {},
     "output_type": "execute_result"
    }
   ],
   "source": [
    "Inputs.shape"
   ]
  },
  {
   "cell_type": "code",
   "execution_count": 6,
   "id": "7d27a7a7",
   "metadata": {},
   "outputs": [],
   "source": [
    "Inputs = Inputs.transpose((2,1,0))\n",
    "Outputs = Outputs.transpose((2,1,0))\n",
    "\n",
    "Inputs_fl = Inputs.reshape(len(Inputs), 64*64)\n",
    "Outputs_fl = Outputs.reshape(len(Outputs), 64*64)"
   ]
  },
  {
   "cell_type": "markdown",
   "id": "e74c76d7",
   "metadata": {},
   "source": [
    "Linear regression"
   ]
  },
  {
   "cell_type": "code",
   "execution_count": 9,
   "id": "4c430294",
   "metadata": {
    "scrolled": false
   },
   "outputs": [
    {
     "name": "stdout",
     "output_type": "stream",
     "text": [
      "20000 128\n",
      "0.053725325383721885 0.054129107629736904\n",
      "20000 256\n",
      "0.053724771853986414 0.0541287837480367\n",
      "20000 512\n",
      "0.053725442394692256 0.054128941233027035\n",
      "20000 1024\n",
      "0.05372536128518232 0.0541288361220119\n"
     ]
    }
   ],
   "source": [
    "results = []\n",
    "for Ntrain in [20000]:\n",
    "    for N_components in [128, 256, 512, 1024]:\n",
    "        print(Ntrain, N_components)\n",
    "        Ytr = Outputs_fl[:Ntrain]\n",
    "        Xtr = Inputs_fl[:Ntrain]\n",
    "        pca = PCA(n_components=min(N_components,Ntrain))\n",
    "        Xtr = pca.fit_transform(Xtr)\n",
    "        reg = LinearRegression(n_jobs = -1).fit(Xtr, Ytr)\n",
    "        #Ypred Ypredtr = reg.predict(Xtr)\n",
    "        Ypredtr = reg.predict(Xtr)\n",
    "        train_error = np.mean(np.linalg.norm(Ypredtr-Ytr, axis = 1)/np.linalg.norm(Ytr, axis = 1))\n",
    "        Xtest = Inputs_fl[20000:]\n",
    "        Ytest = Outputs_fl[20000:]\n",
    "        Xtest = pca.transform(Xtest)\n",
    "        Ypred = reg.predict(Xtest)\n",
    "        test_error = np.mean(np.linalg.norm(Ypred-Ytest, axis = 1)/np.linalg.norm(Ytest, axis = 1))\n",
    "        print(train_error, test_error)\n",
    "        results.append([Ntrain, N_components, train_error, test_error])\n",
    "\n",
    "results = np.array(results)"
   ]
  },
  {
   "cell_type": "markdown",
   "id": "d5235802",
   "metadata": {},
   "source": [
    "GP regression"
   ]
  },
  {
   "cell_type": "code",
   "execution_count": 10,
   "id": "eecfb3f4",
   "metadata": {},
   "outputs": [],
   "source": [
    "# from sklearn.gaussian_process import GaussianProcessRegressor\n",
    "# from sklearn.gaussian_process.kernels import Matern, RBF, RationalQuadratic\n",
    "\n",
    "# kernel = Matern(nu = 2.5)\n",
    "\n",
    "# Xtr.shape\n",
    "\n",
    "# resultsgp = []\n",
    "# for Ntrain in [156, 312, 624, 1250, 2500]:\n",
    "#     print(Ntrain)\n",
    "#     Ytr = Outputs_fl[:Ntrain]\n",
    "#     Xtr = Inputs_fl[:Ntrain]\n",
    "#     pca = PCA(n_components=128)\n",
    "#     Xtr = pca.fit_transform(Xtr)\n",
    "    \n",
    "#     model = GaussianProcessRegressor(kernel, alpha = 1e-10)\n",
    "#     model.fit(Xtr, Ytr)\n",
    "#     #Ypred Ypredtr = reg.predict(Xtr)\n",
    "#     Ypredtr = model.predict(Xtr)\n",
    "#     train_error = np.mean(np.linalg.norm(Ypredtr-Ytr, axis = 1)/np.linalg.norm(Ytr, axis = 1))\n",
    "#     Xtest = Inputs_fl[20000:]\n",
    "#     Ytest = Outputs_fl[20000:]\n",
    "#     Xtest = pca.transform(Xtest)\n",
    "#     Ypred= model.predict(Xtest)\n",
    "#     test_error = np.mean(np.linalg.norm(Ypred-Ytest, axis = 1)/np.linalg.norm(Ytest, axis = 1))\n",
    "#     print(train_error, test_error)\n",
    "#     resultsgp.append([Ntrain, train_error, test_error])"
   ]
  },
  {
   "cell_type": "code",
   "execution_count": 11,
   "id": "35530bd5",
   "metadata": {},
   "outputs": [],
   "source": [
    "#Jax regression"
   ]
  },
  {
   "cell_type": "code",
   "execution_count": 7,
   "id": "74327ec9",
   "metadata": {},
   "outputs": [],
   "source": [
    "def sqeuclidean_distances(x: np.ndarray, y: np.ndarray) -> float:\n",
    "    return np.sum( (x - y) ** 2)\n",
    "dists = jit(vmap(vmap(sqeuclidean_distances, in_axes=(None, 0)), in_axes=(0, None)))\n",
    "\n",
    "def euclidean_distances(x: np.ndarray, y: np.ndarray) -> float:\n",
    "    return np.sqrt(np.sum( (x - y) ** 2))\n",
    "sqdists = jit(vmap(vmap(euclidean_distances, in_axes=(None, 0)), in_axes=(0, None)))\n",
    "\n",
    "\n",
    "@jit\n",
    "def matern(v1, v2, sigma = 50):\n",
    "    #V1 is a [k1] vector\n",
    "    #V2 is a [k2] vector\n",
    "    #returns a k1xk2 matrix\n",
    "    d = sqdists(v1, v2)\n",
    "    #return a*np.exp(-d**2/sigma)\n",
    "    return (1+np.sqrt(5)*d/sigma +5*d**2/(3*sigma**2))*np.exp(-np.sqrt(5)*d/sigma)\n",
    "\n",
    "@jit\n",
    "def exp(v1, v2, sigma):\n",
    "    #V1 is a [k1] vector\n",
    "    #V2 is a [k2] vector\n",
    "    #returns a k1xk2 matrix\n",
    "    d = dists(v1, v2)\n",
    "    return np.exp(-d/sigma)\n",
    "    #return (1+np.sqrt(5)*d/sigma +5*d**2/(3*sigma**2))*np.exp(-np.sqrt(5)*d/sigma)\n",
    "\n",
    "@jit\n",
    "def iq(v1, v2, sigma):\n",
    "    #V1 is a [k1] vector\n",
    "    #V2 is a [k2] vector\n",
    "    #returns a k1xk2 matrix\n",
    "    d = dists(v1, v2)\n",
    "    #return a*np.exp(-d**2/sigma)\n",
    "    #return (1+np.sqrt(5)*d/sigma +5*d**2/(3*sigma**2))*np.exp(-np.sqrt(5)*d/sigma)\n",
    "    return 1/np.sqrt(d+sigma)"
   ]
  },
  {
   "cell_type": "code",
   "execution_count": 25,
   "id": "c53c7c21",
   "metadata": {},
   "outputs": [],
   "source": [
    "Ntrain = 1000\n",
    "n_components = 128"
   ]
  },
  {
   "cell_type": "code",
   "execution_count": 26,
   "id": "5dc9353e",
   "metadata": {},
   "outputs": [],
   "source": [
    "Ytr = Outputs_fl[:Ntrain]\n",
    "Xtr = Inputs_fl[:Ntrain]\n",
    "pca = PCA(n_components=n_components)\n",
    "Xtr = pca.fit_transform(Xtr)\n",
    "Xtest = pca.transform(Inputs_fl[Ntrain:])\n",
    "Ytest = Outputs_fl[Ntrain:]"
   ]
  },
  {
   "cell_type": "code",
   "execution_count": 27,
   "id": "155103cb",
   "metadata": {},
   "outputs": [],
   "source": [
    "def aux(kernel, s, nugget):\n",
    "    k = kernel\n",
    "    Kxx = k(Xtr, Xtr, s)\n",
    "    nuggeted_matrix = Kxx.at[np.diag_indices_from(Kxx)].add(nugget)\n",
    "    L = cho_factor(nuggeted_matrix)\n",
    "    result = cho_solve(L, Ytr)\n",
    "    Train_pred = Kxx@result #train predictions\n",
    "    K_te_tr = k(Xtest, Xtr,s)\n",
    "    Test_pred = K_te_tr@result #test predictions\n",
    "\n",
    "    np.mean(np.linalg.norm(Ytr-Train_pred, axis = 1))\n",
    "\n",
    "    aux1 = np.mean(np.linalg.norm(Ytr-Train_pred, axis = 1))\n",
    "    aux2 = np.mean(np.linalg.norm(Train_pred-Ytr, axis = 1)/np.linalg.norm(Ytr, axis = 1))\n",
    "    aux3 = np.mean(np.linalg.norm(Ytest-Test_pred, axis = 1))\n",
    "    aux4 = np.mean(np.linalg.norm(Ytest-Test_pred, axis = 1)/np.linalg.norm(Ytest, axis = 1))\n",
    "    print(s, nugget)\n",
    "    print(\"\\n Train error (abs): {0} \\n Train error (rel): {1} \\n Test error (abs): {2} \\n Test error (rel): {3}\".format(aux1, aux2, aux3, aux4))\n",
    "    print('---')"
   ]
  },
  {
   "cell_type": "code",
   "execution_count": 28,
   "id": "5eeda8a0",
   "metadata": {},
   "outputs": [],
   "source": [
    "for kernel in [matern]:\n",
    "    for s in [10]:\n",
    "        for nugget in [1e-8]:\n",
    "            aux(kernel, s, nugget)"
   ]
  },
  {
   "cell_type": "code",
   "execution_count": 25,
   "id": "5761112e",
   "metadata": {},
   "outputs": [],
   "source": [
    "Kxx = iq(Xtr, Xtr, 10)\n",
    "nuggeted_matrix = Kxx.at[np.diag_indices_from(Kxx)].add(nugget)\n",
    "L = cho_factor(nuggeted_matrix)\n",
    "result = cho_solve(L, Ytr)\n",
    "Train_pred = Kxx@result #train predictions\n",
    "K_te_tr = iq(Xtest, Xtr,10)\n",
    "Test_pred = K_te_tr@result #test predictions\n"
   ]
  },
  {
   "cell_type": "code",
   "execution_count": 37,
   "id": "92942cd1",
   "metadata": {},
   "outputs": [],
   "source": [
    "import pickle"
   ]
  },
  {
   "cell_type": "code",
   "execution_count": 39,
   "id": "c5d91382",
   "metadata": {},
   "outputs": [],
   "source": [
    "pickle.dump(obj=[Ytest[42], Test_pred[42]], file = open('PredictedNS.pkl', 'wb'))"
   ]
  },
  {
   "cell_type": "code",
   "execution_count": 41,
   "id": "d148ef50",
   "metadata": {},
   "outputs": [
    {
     "name": "stdout",
     "output_type": "stream",
     "text": [
      "5 1e-08\n",
      "\n",
      " Train error (abs): 7.276826314842877e-06 \n",
      " Train error (rel): 3.089005883597936e-06 \n",
      " Test error (abs): 0.0036650247452169396 \n",
      " Test error (rel): 0.001408151899488941\n",
      "---\n",
      "10 1e-08\n",
      "\n",
      " Train error (abs): 7.200404742330143e-05 \n",
      " Train error (rel): 3.0344639302522636e-05 \n",
      " Test error (abs): 0.003295011932740077 \n",
      " Test error (rel): 0.0012717308827894362\n",
      "---\n",
      "20 1e-08\n",
      "\n",
      " Train error (abs): 0.0005751168252746178 \n",
      " Train error (rel): 0.00023795777233394865 \n",
      " Test error (abs): 0.003558931576589692 \n",
      " Test error (rel): 0.0013742244987143153\n",
      "---\n",
      "40 1e-08\n",
      "\n",
      " Train error (abs): 0.0025715950223758775 \n",
      " Train error (rel): 0.0010307540484672058 \n",
      " Test error (abs): 0.005443076746567158 \n",
      " Test error (rel): 0.002097828482226641\n",
      "---\n",
      "80 1e-08\n",
      "\n",
      " Train error (abs): 0.007101622836243661 \n",
      " Train error (rel): 0.0027757126412045426 \n",
      " Test error (abs): 0.010035304870783596 \n",
      " Test error (rel): 0.003849685796898841\n",
      "---\n",
      "100 1e-08\n",
      "\n",
      " Train error (abs): 0.008777021698441391 \n",
      " Train error (rel): 0.0034134716017403914 \n",
      " Test error (abs): 0.011648809706353166 \n",
      " Test error (rel): 0.00446285613578873\n",
      "---\n",
      "5 1e-08\n",
      "\n",
      " Train error (abs): 1.8680382227438588e-05 \n",
      " Train error (rel): 7.715601158446827e-06 \n",
      " Test error (abs): 0.004082134181028857 \n",
      " Test error (rel): 0.0015439475541831824\n",
      "---\n",
      "10 1e-08\n",
      "\n",
      " Train error (abs): 0.0004593451867777649 \n",
      " Train error (rel): 0.00018792238790783902 \n",
      " Test error (abs): 0.004298729724052864 \n",
      " Test error (rel): 0.0016312560985817922\n",
      "---\n",
      "20 1e-08\n",
      "\n",
      " Train error (abs): 0.00441939982350507 \n",
      " Train error (rel): 0.001732601979238959 \n",
      " Test error (abs): 0.007564911314853524 \n",
      " Test error (rel): 0.0028775780601858606\n",
      "---\n",
      "40 1e-08\n",
      "\n",
      " Train error (abs): 0.011935068497307105 \n",
      " Train error (rel): 0.004609202332044532 \n",
      " Test error (abs): 0.014018198868345053 \n",
      " Test error (rel): 0.005357200943388285\n",
      "---\n",
      "80 1e-08\n",
      "\n",
      " Train error (abs): 0.028390596741171125 \n",
      " Train error (rel): 0.011160969489161255 \n",
      " Test error (abs): 0.029991121530365435 \n",
      " Test error (rel): 0.011725741509377191\n",
      "---\n",
      "100 1e-08\n",
      "\n",
      " Train error (abs): 0.04295939242209847 \n",
      " Train error (rel): 0.016883225497084167 \n",
      " Test error (abs): 0.044632569692721974 \n",
      " Test error (rel): 0.017459576399767546\n",
      "---\n"
     ]
    }
   ],
   "source": [
    "for kernel in [iq, matern]:\n",
    "    for s in [5, 10, 20, 40, 80, 100]:\n",
    "        for nugget in [1e-8]:\n",
    "            aux(kernel, s, nugget)"
   ]
  }
 ],
 "metadata": {
  "kernelspec": {
   "display_name": "Python 3",
   "language": "python",
   "name": "python3"
  },
  "language_info": {
   "codemirror_mode": {
    "name": "ipython",
    "version": 3
   },
   "file_extension": ".py",
   "mimetype": "text/x-python",
   "name": "python",
   "nbconvert_exporter": "python",
   "pygments_lexer": "ipython3",
   "version": "3.10.14"
  }
 },
 "nbformat": 4,
 "nbformat_minor": 5
}

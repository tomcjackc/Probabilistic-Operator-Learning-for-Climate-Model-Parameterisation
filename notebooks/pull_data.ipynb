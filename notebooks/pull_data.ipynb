{
 "cells": [
  {
   "cell_type": "code",
   "execution_count": 40,
   "metadata": {},
   "outputs": [],
   "source": [
    "import numpy as np\n",
    "import xarray as xr\n",
    "import fsspec\n",
    "import matplotlib\n",
    "import matplotlib.pyplot as plt\n",
    "import pyqg\n",
    "import pyqg.diagnostic_tools\n",
    "import json\n",
    "import s3fs\n",
    "\n",
    "%matplotlib inline\n",
    "\n",
    "plt.rcParams.update({'font.size': 13})"
   ]
  },
  {
   "cell_type": "code",
   "execution_count": 36,
   "metadata": {},
   "outputs": [],
   "source": [
    "# Datasets are hosted on globus as zarr files\n",
    "def get_dataset(path, base_url=\"https://g-402b74.00888.8540.data.globus.org\"):\n",
    "    mapper = fsspec.get_mapper(f\"{base_url}/{path}.zarr\")\n",
    "    return xr.open_zarr(mapper, consolidated=True)\n",
    "\n",
    "def my_get_dataset(path, base_url=\"https://g-402b74.00888.8540.data.globus.org\"):# https://g-402b74.00888.8540.data\n",
    "    fs = fsspec.filesystem('https')\n",
    "    print(fs.glob(f\"{base_url}/{path}/*\"))"
   ]
  },
  {
   "cell_type": "code",
   "execution_count": 37,
   "metadata": {},
   "outputs": [
    {
     "name": "stdout",
     "output_type": "stream",
     "text": [
      "[]\n"
     ]
    },
    {
     "ename": "AttributeError",
     "evalue": "'NoneType' object has no attribute 'isel'",
     "output_type": "error",
     "traceback": [
      "\u001b[0;31m---------------------------------------------------------------------------\u001b[0m",
      "\u001b[0;31mAttributeError\u001b[0m                            Traceback (most recent call last)",
      "Cell \u001b[0;32mIn[37], line 1\u001b[0m\n\u001b[0;32m----> 1\u001b[0m eddy_high_res \u001b[38;5;241m=\u001b[39m \u001b[43mmy_get_dataset\u001b[49m\u001b[43m(\u001b[49m\u001b[38;5;124;43m'\u001b[39;49m\u001b[38;5;124;43meddy/high_res\u001b[39;49m\u001b[38;5;124;43m'\u001b[39;49m\u001b[43m)\u001b[49m\u001b[38;5;241;43m.\u001b[39;49m\u001b[43misel\u001b[49m(run\u001b[38;5;241m=\u001b[39m\u001b[38;5;241m0\u001b[39m)\n\u001b[1;32m      2\u001b[0m jet_high_res \u001b[38;5;241m=\u001b[39m my_get_dataset(\u001b[38;5;124m'\u001b[39m\u001b[38;5;124mjet/high_res\u001b[39m\u001b[38;5;124m'\u001b[39m)\u001b[38;5;241m.\u001b[39misel(run\u001b[38;5;241m=\u001b[39m\u001b[38;5;241m0\u001b[39m)\n",
      "\u001b[0;31mAttributeError\u001b[0m: 'NoneType' object has no attribute 'isel'"
     ]
    }
   ],
   "source": [
    "eddy_high_res = my_get_dataset('eddy/high_res').isel(run=0)\n",
    "jet_high_res = my_get_dataset('jet/high_res').isel(run=0)"
   ]
  },
  {
   "cell_type": "code",
   "execution_count": 39,
   "metadata": {},
   "outputs": [
    {
     "name": "stdout",
     "output_type": "stream",
     "text": [
      "Zarr store is not accessible\n"
     ]
    }
   ],
   "source": [
    "import fsspec\n",
    "\n",
    "base_url = \"https://g-402b74.00888.8540.data\"\n",
    "path = \"eddy/high_res.zarr\"\n",
    "full_path = f\"{base_url}/{path}\"\n",
    "\n",
    "try:\n",
    "    fs = fsspec.filesystem(\"http\")\n",
    "    if fs.exists(full_path):\n",
    "        print(\"Zarr store is accessible\")\n",
    "    else:\n",
    "        print(\"Zarr store is not accessible\")\n",
    "except Exception as e:\n",
    "    print(f\"Error accessing Zarr store: {e}\")"
   ]
  },
  {
   "cell_type": "code",
   "execution_count": null,
   "metadata": {},
   "outputs": [],
   "source": []
  }
 ],
 "metadata": {
  "kernelspec": {
   "display_name": "mres2",
   "language": "python",
   "name": "python3"
  },
  "language_info": {
   "codemirror_mode": {
    "name": "ipython",
    "version": 3
   },
   "file_extension": ".py",
   "mimetype": "text/x-python",
   "name": "python",
   "nbconvert_exporter": "python",
   "pygments_lexer": "ipython3",
   "version": "3.10.14"
  }
 },
 "nbformat": 4,
 "nbformat_minor": 2
}

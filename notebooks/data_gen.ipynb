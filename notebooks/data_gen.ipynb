{
 "cells": [
  {
   "cell_type": "code",
   "execution_count": 58,
   "metadata": {},
   "outputs": [],
   "source": [
    "import pyqg\n",
    "from pyqg import diagnostic_tools as tools\n",
    "import numpy as np\n",
    "import matplotlib.pyplot as plt\n",
    "import xarray as xr\n",
    "from tqdm import tqdm\n",
    "import pyqg_parameterization_benchmarks.coarsening_ops as coarsening"
   ]
  },
  {
   "cell_type": "markdown",
   "metadata": {},
   "source": [
    "Eddy configuration"
   ]
  },
  {
   "cell_type": "code",
   "execution_count": 59,
   "metadata": {},
   "outputs": [],
   "source": [
    "# Physical params\n",
    "\n",
    "L = 0.5e6 # length of the model domain / m\n",
    "rd = 1.5e4 # deformation scale / m\n",
    "rek = 5.787e-7 # linear bottom drag / s^-1\n",
    "dt = 3600 # time step / s\n",
    "delta_U_eddy = 0.025 # difference between flows at upper and lower layers / ms^-1\n",
    "H1 = 500 # thickness of the upper layer / m\n",
    "delta = 0.25 # ratio of the upper layer thickness to the lower layer thickness (H1/H2)\n",
    "beta = 1.5e-11 # beta parameter / m^-1s^-1\n",
    "\n",
    "# Experiment params\n",
    "n_years_run = 10 # number of years to run the model for\n",
    "n_years_start_av = 5 # number of years from which to average the data\n",
    "n_years_snapshots = 1 # number of years between snapshots\n",
    "\n",
    "# Constants\n",
    "year = 24*60*60*365. # = 31,536,000 = 3.2e7 s therefore 10 years = 3.2e8\n"
   ]
  },
  {
   "cell_type": "markdown",
   "metadata": {},
   "source": [
    "Medium resolution (128x128)"
   ]
  },
  {
   "cell_type": "code",
   "execution_count": 61,
   "metadata": {},
   "outputs": [
    {
     "name": "stderr",
     "output_type": "stream",
     "text": [
      "INFO:  Logger initialized\n",
      "0it [00:00, ?it/s]"
     ]
    },
    {
     "name": "stderr",
     "output_type": "stream",
     "text": [
      "1it [00:15, 15.98s/it]INFO: Step: 10000, Time: 3.60e+07, KE: 4.85e-07, CFL: 0.023\n",
      "2it [00:31, 15.95s/it]INFO: Step: 20000, Time: 7.20e+07, KE: 1.74e-05, CFL: 0.028\n",
      "3it [00:47, 15.90s/it]INFO: Step: 30000, Time: 1.08e+08, KE: 5.21e-04, CFL: 0.224\n",
      "4it [01:03, 15.89s/it]INFO: Step: 40000, Time: 1.44e+08, KE: 7.42e-04, CFL: 0.205\n",
      "5it [01:19, 15.96s/it]INFO: Step: 50000, Time: 1.80e+08, KE: 6.47e-04, CFL: 0.195\n",
      "6it [01:38, 16.95s/it]INFO: Step: 60000, Time: 2.16e+08, KE: 5.81e-04, CFL: 0.195\n",
      "7it [01:57, 17.62s/it]INFO: Step: 70000, Time: 2.52e+08, KE: 7.26e-04, CFL: 0.221\n",
      "9it [02:35, 18.34s/it]INFO: Step: 80000, Time: 2.88e+08, KE: 6.62e-04, CFL: 0.210\n",
      "10it [02:54, 17.46s/it]\n"
     ]
    }
   ],
   "source": [
    "eddy_128 = pyqg.QGModel(nx=128, tmax=n_years_run*year, twrite=10000, tavestart=n_years_start_av*year, beta=beta, rd=rd, rek=rek, H1=H1, delta=delta, U1=delta_U_eddy, U2=0, L=L, dt=dt)\n",
    "eddy_128_gen = eddy_128.run_with_snapshots(tsnapint=int(n_years_snapshots*year))\n",
    "\n",
    "for snapshot in tqdm(eddy_128_gen):\n",
    "    eddy_128_ds = eddy_128.to_dataset()[['q', 'u', 'v']]\n",
    "    eddy_128_ds.to_netcdf(f'../2d_data/eddy_config/medres/eddy_128_{round(snapshot/year, 4)}years_L={L*1e-6}e6.nc')\n"
   ]
  },
  {
   "cell_type": "markdown",
   "metadata": {},
   "source": [
    "Low resolution (64x64)"
   ]
  },
  {
   "cell_type": "code",
   "execution_count": 63,
   "metadata": {},
   "outputs": [
    {
     "name": "stderr",
     "output_type": "stream",
     "text": [
      "INFO:  Logger initialized\n",
      "1it [00:04,  4.16s/it]INFO: Step: 10000, Time: 3.60e+07, KE: 4.84e-06, CFL: 0.012\n",
      "2it [00:08,  4.11s/it]INFO: Step: 20000, Time: 7.20e+07, KE: 3.32e-04, CFL: 0.074\n",
      "3it [00:12,  4.10s/it]INFO: Step: 30000, Time: 1.08e+08, KE: 4.49e-04, CFL: 0.082\n",
      "4it [00:16,  4.09s/it]INFO: Step: 40000, Time: 1.44e+08, KE: 6.56e-04, CFL: 0.130\n",
      "5it [00:20,  4.12s/it]INFO: Step: 50000, Time: 1.80e+08, KE: 6.76e-04, CFL: 0.105\n",
      "6it [00:25,  4.48s/it]INFO: Step: 60000, Time: 2.16e+08, KE: 7.13e-04, CFL: 0.100\n",
      "7it [00:31,  4.80s/it]INFO: Step: 70000, Time: 2.52e+08, KE: 6.63e-04, CFL: 0.120\n",
      "9it [00:41,  5.00s/it]INFO: Step: 80000, Time: 2.88e+08, KE: 5.70e-04, CFL: 0.100\n",
      "10it [00:46,  4.67s/it]\n"
     ]
    }
   ],
   "source": [
    "eddy_64 = pyqg.QGModel(nx=64, tmax=n_years_run*year, twrite=10000, tavestart=n_years_start_av*year, beta=beta, rd=rd, rek=rek, H1=H1, delta=delta, U1=delta_U_eddy, U2=0, L=L, dt=dt)\n",
    "eddy_64_gen = eddy_64.run_with_snapshots(tsnapint=int(n_years_snapshots*year))\n",
    "\n",
    "for snapshot in tqdm(eddy_64_gen):\n",
    "    eddy_64_ds = eddy_64.to_dataset()[['q', 'u', 'v']]\n",
    "    eddy_64_ds.to_netcdf(f'../2d_data/eddy_config/lowres/eddy_64_{round(snapshot/year, 4)}years_L={L*1e-6}e6.nc')"
   ]
  },
  {
   "cell_type": "markdown",
   "metadata": {},
   "source": [
    "High resolution (256x256) - seemingly can only be run with `L=1e6` otherwise encountering a CFL error"
   ]
  },
  {
   "cell_type": "code",
   "execution_count": 68,
   "metadata": {},
   "outputs": [
    {
     "name": "stderr",
     "output_type": "stream",
     "text": [
      "INFO:  Logger initialized\n",
      "1it [01:14, 74.49s/it]INFO: Step: 10000, Time: 3.60e+07, KE: 1.37e-06, CFL: 0.047\n",
      "2it [02:16, 67.06s/it]INFO: Step: 20000, Time: 7.20e+07, KE: 2.38e-04, CFL: 0.142\n",
      "3it [03:11, 61.53s/it]INFO: Step: 30000, Time: 1.08e+08, KE: nan, CFL:  nan\n",
      "ERROR: CFL condition violated\n",
      "3it [03:34, 71.50s/it]\n"
     ]
    },
    {
     "ename": "AssertionError",
     "evalue": "None",
     "output_type": "error",
     "traceback": [
      "\u001b[0;31m---------------------------------------------------------------------------\u001b[0m",
      "\u001b[0;31mAssertionError\u001b[0m                            Traceback (most recent call last)",
      "Cell \u001b[0;32mIn[68], line 4\u001b[0m\n\u001b[1;32m      1\u001b[0m eddy_256 \u001b[38;5;241m=\u001b[39m pyqg\u001b[38;5;241m.\u001b[39mQGModel(nx\u001b[38;5;241m=\u001b[39m\u001b[38;5;241m256\u001b[39m, tmax\u001b[38;5;241m=\u001b[39mn_years_run\u001b[38;5;241m*\u001b[39myear, twrite\u001b[38;5;241m=\u001b[39m\u001b[38;5;241m10000\u001b[39m, tavestart\u001b[38;5;241m=\u001b[39mn_years_start_av\u001b[38;5;241m*\u001b[39myear, beta\u001b[38;5;241m=\u001b[39mbeta, rd\u001b[38;5;241m=\u001b[39mrd, rek\u001b[38;5;241m=\u001b[39mrek, H1\u001b[38;5;241m=\u001b[39mH1, delta\u001b[38;5;241m=\u001b[39mdelta, U1\u001b[38;5;241m=\u001b[39mdelta_U_eddy, U2\u001b[38;5;241m=\u001b[39m\u001b[38;5;241m0\u001b[39m, L\u001b[38;5;241m=\u001b[39mL, dt\u001b[38;5;241m=\u001b[39mdt)\n\u001b[1;32m      2\u001b[0m eddy_256_gen \u001b[38;5;241m=\u001b[39m eddy_256\u001b[38;5;241m.\u001b[39mrun_with_snapshots(tsnapint\u001b[38;5;241m=\u001b[39m\u001b[38;5;28mint\u001b[39m(n_years_snapshots\u001b[38;5;241m*\u001b[39myear))\n\u001b[0;32m----> 4\u001b[0m \u001b[38;5;28;01mfor\u001b[39;00m snapshot \u001b[38;5;129;01min\u001b[39;00m tqdm(eddy_256_gen):\n\u001b[1;32m      5\u001b[0m     eddy_256_ds \u001b[38;5;241m=\u001b[39m eddy_256\u001b[38;5;241m.\u001b[39mto_dataset()[[\u001b[38;5;124m'\u001b[39m\u001b[38;5;124mq\u001b[39m\u001b[38;5;124m'\u001b[39m, \u001b[38;5;124m'\u001b[39m\u001b[38;5;124mu\u001b[39m\u001b[38;5;124m'\u001b[39m, \u001b[38;5;124m'\u001b[39m\u001b[38;5;124mv\u001b[39m\u001b[38;5;124m'\u001b[39m]]\n\u001b[1;32m      6\u001b[0m     eddy_256_ds\u001b[38;5;241m.\u001b[39mto_netcdf(\u001b[38;5;124mf\u001b[39m\u001b[38;5;124m'\u001b[39m\u001b[38;5;124m2d_data/eddy_config/lowres/eddy_256_\u001b[39m\u001b[38;5;132;01m{\u001b[39;00m\u001b[38;5;28mround\u001b[39m(snapshot\u001b[38;5;241m/\u001b[39myear,\u001b[38;5;250m \u001b[39m\u001b[38;5;241m4\u001b[39m)\u001b[38;5;132;01m}\u001b[39;00m\u001b[38;5;124myears_L=\u001b[39m\u001b[38;5;132;01m{\u001b[39;00mL\u001b[38;5;241m*\u001b[39m\u001b[38;5;241m1e-6\u001b[39m\u001b[38;5;132;01m}\u001b[39;00m\u001b[38;5;124me6.nc\u001b[39m\u001b[38;5;124m'\u001b[39m)\n",
      "File \u001b[0;32m~/opt/anaconda3/envs/mres2/lib/python3.10/site-packages/tqdm/std.py:1181\u001b[0m, in \u001b[0;36mtqdm.__iter__\u001b[0;34m(self)\u001b[0m\n\u001b[1;32m   1178\u001b[0m time \u001b[38;5;241m=\u001b[39m \u001b[38;5;28mself\u001b[39m\u001b[38;5;241m.\u001b[39m_time\n\u001b[1;32m   1180\u001b[0m \u001b[38;5;28;01mtry\u001b[39;00m:\n\u001b[0;32m-> 1181\u001b[0m     \u001b[38;5;28;01mfor\u001b[39;00m obj \u001b[38;5;129;01min\u001b[39;00m iterable:\n\u001b[1;32m   1182\u001b[0m         \u001b[38;5;28;01myield\u001b[39;00m obj\n\u001b[1;32m   1183\u001b[0m         \u001b[38;5;66;03m# Update and possibly print the progressbar.\u001b[39;00m\n\u001b[1;32m   1184\u001b[0m         \u001b[38;5;66;03m# Note: does not call self.update(1) for speed optimisation.\u001b[39;00m\n",
      "File \u001b[0;32m~/opt/anaconda3/envs/mres2/lib/python3.10/site-packages/pyqg/model.py:275\u001b[0m, in \u001b[0;36mModel.run_with_snapshots\u001b[0;34m(self, tsnapstart, tsnapint)\u001b[0m\n\u001b[1;32m    272\u001b[0m tsnapints \u001b[38;5;241m=\u001b[39m np\u001b[38;5;241m.\u001b[39mceil(tsnapint\u001b[38;5;241m/\u001b[39m\u001b[38;5;28mself\u001b[39m\u001b[38;5;241m.\u001b[39mdt)\n\u001b[1;32m    274\u001b[0m \u001b[38;5;28;01mwhile\u001b[39;00m(\u001b[38;5;28mself\u001b[39m\u001b[38;5;241m.\u001b[39mt \u001b[38;5;241m<\u001b[39m \u001b[38;5;28mself\u001b[39m\u001b[38;5;241m.\u001b[39mtmax):\n\u001b[0;32m--> 275\u001b[0m     \u001b[38;5;28;43mself\u001b[39;49m\u001b[38;5;241;43m.\u001b[39;49m\u001b[43m_step_forward\u001b[49m\u001b[43m(\u001b[49m\u001b[43m)\u001b[49m\n\u001b[1;32m    276\u001b[0m     \u001b[38;5;28;01mif\u001b[39;00m \u001b[38;5;28mself\u001b[39m\u001b[38;5;241m.\u001b[39mt\u001b[38;5;241m>\u001b[39m\u001b[38;5;241m=\u001b[39mtsnapstart \u001b[38;5;129;01mand\u001b[39;00m (\u001b[38;5;28mself\u001b[39m\u001b[38;5;241m.\u001b[39mtc\u001b[38;5;241m%\u001b[39mtsnapints)\u001b[38;5;241m==\u001b[39m\u001b[38;5;241m0\u001b[39m:\n\u001b[1;32m    277\u001b[0m         \u001b[38;5;28;01myield\u001b[39;00m \u001b[38;5;28mself\u001b[39m\u001b[38;5;241m.\u001b[39mt\n",
      "File \u001b[0;32m~/opt/anaconda3/envs/mres2/lib/python3.10/site-packages/pyqg/model.py:436\u001b[0m, in \u001b[0;36mModel._step_forward\u001b[0;34m(self)\u001b[0m\n\u001b[1;32m    431\u001b[0m \u001b[38;5;28mself\u001b[39m\u001b[38;5;241m.\u001b[39m_forward_timestep()\n\u001b[1;32m    432\u001b[0m \u001b[38;5;66;03m# apply tendencies to step the model forward\u001b[39;00m\n\u001b[1;32m    433\u001b[0m \u001b[38;5;66;03m# (filter gets called here)\u001b[39;00m\n\u001b[1;32m    434\u001b[0m \n\u001b[1;32m    435\u001b[0m \u001b[38;5;66;03m# the basic steps are\u001b[39;00m\n\u001b[0;32m--> 436\u001b[0m \u001b[38;5;28;43mself\u001b[39;49m\u001b[38;5;241;43m.\u001b[39;49m\u001b[43m_print_status\u001b[49m\u001b[43m(\u001b[49m\u001b[43m)\u001b[49m\n",
      "File \u001b[0;32m~/opt/anaconda3/envs/mres2/lib/python3.10/site-packages/pyqg/model.py:574\u001b[0m, in \u001b[0;36mModel._print_status\u001b[0;34m(self)\u001b[0m\n\u001b[1;32m    569\u001b[0m \u001b[38;5;66;03m#print 't=%16d, tc=%10d: cfl=%5.6f, ke=%9.9f' % (\u001b[39;00m\n\u001b[1;32m    570\u001b[0m \u001b[38;5;66;03m#       self.t, self.tc, cfl, ke)\u001b[39;00m\n\u001b[1;32m    571\u001b[0m \u001b[38;5;28mself\u001b[39m\u001b[38;5;241m.\u001b[39mlogger\u001b[38;5;241m.\u001b[39minfo(\u001b[38;5;124m'\u001b[39m\u001b[38;5;124mStep: \u001b[39m\u001b[38;5;132;01m%i\u001b[39;00m\u001b[38;5;124m, Time: \u001b[39m\u001b[38;5;132;01m%3.2e\u001b[39;00m\u001b[38;5;124m, KE: \u001b[39m\u001b[38;5;132;01m%3.2e\u001b[39;00m\u001b[38;5;124m, CFL: \u001b[39m\u001b[38;5;132;01m%4.3f\u001b[39;00m\u001b[38;5;124m'\u001b[39m\n\u001b[1;32m    572\u001b[0m         , \u001b[38;5;28mself\u001b[39m\u001b[38;5;241m.\u001b[39mtc,\u001b[38;5;28mself\u001b[39m\u001b[38;5;241m.\u001b[39mt,\u001b[38;5;28mself\u001b[39m\u001b[38;5;241m.\u001b[39mke,\u001b[38;5;28mself\u001b[39m\u001b[38;5;241m.\u001b[39mcfl )\n\u001b[0;32m--> 574\u001b[0m \u001b[38;5;28;01massert\u001b[39;00m \u001b[38;5;28mself\u001b[39m\u001b[38;5;241m.\u001b[39mcfl\u001b[38;5;241m<\u001b[39m\u001b[38;5;241m1.\u001b[39m, \u001b[38;5;28mself\u001b[39m\u001b[38;5;241m.\u001b[39mlogger\u001b[38;5;241m.\u001b[39merror(\u001b[38;5;124m'\u001b[39m\u001b[38;5;124mCFL condition violated\u001b[39m\u001b[38;5;124m'\u001b[39m)\n",
      "\u001b[0;31mAssertionError\u001b[0m: None"
     ]
    }
   ],
   "source": [
    "eddy_256 = pyqg.QGModel(nx=256, tmax=n_years_run*year, twrite=10000, tavestart=n_years_start_av*year, beta=beta, rd=rd, rek=rek, H1=H1, delta=delta, U1=delta_U_eddy, U2=0, L=L, dt=dt)\n",
    "eddy_256_gen = eddy_256.run_with_snapshots(tsnapint=int(n_years_snapshots*year))\n",
    "\n",
    "for snapshot in tqdm(eddy_256_gen):\n",
    "    eddy_256_ds = eddy_256.to_dataset()[['q', 'u', 'v']]\n",
    "    eddy_256_ds.to_netcdf(f'../2d_data/eddy_config/highres/eddy_256_{round(snapshot/year, 4)}years_L={L*1e-6}e6.nc')"
   ]
  },
  {
   "cell_type": "markdown",
   "metadata": {},
   "source": [
    "Downloading data using code from the paper repo (not managed to get this working):"
   ]
  },
  {
   "cell_type": "code",
   "execution_count": 67,
   "metadata": {},
   "outputs": [
    {
     "ename": "ValueError",
     "evalue": "unrecognized engine zarr must be one of: ['scipy', 'store']",
     "output_type": "error",
     "traceback": [
      "\u001b[0;31m---------------------------------------------------------------------------\u001b[0m",
      "\u001b[0;31mValueError\u001b[0m                                Traceback (most recent call last)",
      "Cell \u001b[0;32mIn[67], line 7\u001b[0m\n\u001b[1;32m      4\u001b[0m     mapper \u001b[38;5;241m=\u001b[39m fsspec\u001b[38;5;241m.\u001b[39mget_mapper(\u001b[38;5;124mf\u001b[39m\u001b[38;5;124m\"\u001b[39m\u001b[38;5;132;01m{\u001b[39;00mbase_url\u001b[38;5;132;01m}\u001b[39;00m\u001b[38;5;124m/\u001b[39m\u001b[38;5;132;01m{\u001b[39;00mpath\u001b[38;5;132;01m}\u001b[39;00m\u001b[38;5;124m.zarr\u001b[39m\u001b[38;5;124m\"\u001b[39m)\n\u001b[1;32m      5\u001b[0m     \u001b[38;5;28;01mreturn\u001b[39;00m xr\u001b[38;5;241m.\u001b[39mopen_zarr(mapper, consolidated\u001b[38;5;241m=\u001b[39m\u001b[38;5;28;01mTrue\u001b[39;00m)\n\u001b[0;32m----> 7\u001b[0m eddy_high_res \u001b[38;5;241m=\u001b[39m \u001b[43mget_dataset\u001b[49m\u001b[43m(\u001b[49m\u001b[38;5;124;43m'\u001b[39;49m\u001b[38;5;124;43meddy/high_res\u001b[39;49m\u001b[38;5;124;43m'\u001b[39;49m\u001b[43m)\u001b[49m\u001b[38;5;241m.\u001b[39misel(run\u001b[38;5;241m=\u001b[39m\u001b[38;5;241m0\u001b[39m)\n\u001b[1;32m      8\u001b[0m jet_high_res \u001b[38;5;241m=\u001b[39m get_dataset(\u001b[38;5;124m'\u001b[39m\u001b[38;5;124mjet/high_res\u001b[39m\u001b[38;5;124m'\u001b[39m)\u001b[38;5;241m.\u001b[39misel(run\u001b[38;5;241m=\u001b[39m\u001b[38;5;241m0\u001b[39m)\n\u001b[1;32m     10\u001b[0m plt\u001b[38;5;241m.\u001b[39mfigure(figsize\u001b[38;5;241m=\u001b[39m(\u001b[38;5;241m12\u001b[39m,\u001b[38;5;241m5\u001b[39m))\u001b[38;5;241m.\u001b[39msuptitle(\u001b[38;5;124m\"\u001b[39m\u001b[38;5;124mFinal-timestep upper PV snapshots\u001b[39m\u001b[38;5;124m\"\u001b[39m)\n",
      "Cell \u001b[0;32mIn[67], line 5\u001b[0m, in \u001b[0;36mget_dataset\u001b[0;34m(path, base_url)\u001b[0m\n\u001b[1;32m      3\u001b[0m \u001b[38;5;28;01mdef\u001b[39;00m \u001b[38;5;21mget_dataset\u001b[39m(path, base_url\u001b[38;5;241m=\u001b[39m\u001b[38;5;124m\"\u001b[39m\u001b[38;5;124mhttps://g-402b74.00888.8540.data.globus.org\u001b[39m\u001b[38;5;124m\"\u001b[39m):\n\u001b[1;32m      4\u001b[0m     mapper \u001b[38;5;241m=\u001b[39m fsspec\u001b[38;5;241m.\u001b[39mget_mapper(\u001b[38;5;124mf\u001b[39m\u001b[38;5;124m\"\u001b[39m\u001b[38;5;132;01m{\u001b[39;00mbase_url\u001b[38;5;132;01m}\u001b[39;00m\u001b[38;5;124m/\u001b[39m\u001b[38;5;132;01m{\u001b[39;00mpath\u001b[38;5;132;01m}\u001b[39;00m\u001b[38;5;124m.zarr\u001b[39m\u001b[38;5;124m\"\u001b[39m)\n\u001b[0;32m----> 5\u001b[0m     \u001b[38;5;28;01mreturn\u001b[39;00m \u001b[43mxr\u001b[49m\u001b[38;5;241;43m.\u001b[39;49m\u001b[43mopen_zarr\u001b[49m\u001b[43m(\u001b[49m\u001b[43mmapper\u001b[49m\u001b[43m,\u001b[49m\u001b[43m \u001b[49m\u001b[43mconsolidated\u001b[49m\u001b[38;5;241;43m=\u001b[39;49m\u001b[38;5;28;43;01mTrue\u001b[39;49;00m\u001b[43m)\u001b[49m\n",
      "File \u001b[0;32m~/opt/anaconda3/envs/mres2/lib/python3.10/site-packages/xarray/backends/zarr.py:867\u001b[0m, in \u001b[0;36mopen_zarr\u001b[0;34m(store, group, synchronizer, chunks, decode_cf, mask_and_scale, decode_times, concat_characters, decode_coords, drop_variables, consolidated, overwrite_encoded_chunks, chunk_store, storage_options, decode_timedelta, use_cftime, zarr_version, chunked_array_type, from_array_kwargs, **kwargs)\u001b[0m\n\u001b[1;32m    853\u001b[0m     \u001b[38;5;28;01mraise\u001b[39;00m \u001b[38;5;167;01mTypeError\u001b[39;00m(\n\u001b[1;32m    854\u001b[0m         \u001b[38;5;124m\"\u001b[39m\u001b[38;5;124mopen_zarr() got unexpected keyword arguments \u001b[39m\u001b[38;5;124m\"\u001b[39m \u001b[38;5;241m+\u001b[39m \u001b[38;5;124m\"\u001b[39m\u001b[38;5;124m,\u001b[39m\u001b[38;5;124m\"\u001b[39m\u001b[38;5;241m.\u001b[39mjoin(kwargs\u001b[38;5;241m.\u001b[39mkeys())\n\u001b[1;32m    855\u001b[0m     )\n\u001b[1;32m    857\u001b[0m backend_kwargs \u001b[38;5;241m=\u001b[39m {\n\u001b[1;32m    858\u001b[0m     \u001b[38;5;124m\"\u001b[39m\u001b[38;5;124msynchronizer\u001b[39m\u001b[38;5;124m\"\u001b[39m: synchronizer,\n\u001b[1;32m    859\u001b[0m     \u001b[38;5;124m\"\u001b[39m\u001b[38;5;124mconsolidated\u001b[39m\u001b[38;5;124m\"\u001b[39m: consolidated,\n\u001b[0;32m   (...)\u001b[0m\n\u001b[1;32m    864\u001b[0m     \u001b[38;5;124m\"\u001b[39m\u001b[38;5;124mzarr_version\u001b[39m\u001b[38;5;124m\"\u001b[39m: zarr_version,\n\u001b[1;32m    865\u001b[0m }\n\u001b[0;32m--> 867\u001b[0m ds \u001b[38;5;241m=\u001b[39m \u001b[43mopen_dataset\u001b[49m\u001b[43m(\u001b[49m\n\u001b[1;32m    868\u001b[0m \u001b[43m    \u001b[49m\u001b[43mfilename_or_obj\u001b[49m\u001b[38;5;241;43m=\u001b[39;49m\u001b[43mstore\u001b[49m\u001b[43m,\u001b[49m\n\u001b[1;32m    869\u001b[0m \u001b[43m    \u001b[49m\u001b[43mgroup\u001b[49m\u001b[38;5;241;43m=\u001b[39;49m\u001b[43mgroup\u001b[49m\u001b[43m,\u001b[49m\n\u001b[1;32m    870\u001b[0m \u001b[43m    \u001b[49m\u001b[43mdecode_cf\u001b[49m\u001b[38;5;241;43m=\u001b[39;49m\u001b[43mdecode_cf\u001b[49m\u001b[43m,\u001b[49m\n\u001b[1;32m    871\u001b[0m \u001b[43m    \u001b[49m\u001b[43mmask_and_scale\u001b[49m\u001b[38;5;241;43m=\u001b[39;49m\u001b[43mmask_and_scale\u001b[49m\u001b[43m,\u001b[49m\n\u001b[1;32m    872\u001b[0m \u001b[43m    \u001b[49m\u001b[43mdecode_times\u001b[49m\u001b[38;5;241;43m=\u001b[39;49m\u001b[43mdecode_times\u001b[49m\u001b[43m,\u001b[49m\n\u001b[1;32m    873\u001b[0m \u001b[43m    \u001b[49m\u001b[43mconcat_characters\u001b[49m\u001b[38;5;241;43m=\u001b[39;49m\u001b[43mconcat_characters\u001b[49m\u001b[43m,\u001b[49m\n\u001b[1;32m    874\u001b[0m \u001b[43m    \u001b[49m\u001b[43mdecode_coords\u001b[49m\u001b[38;5;241;43m=\u001b[39;49m\u001b[43mdecode_coords\u001b[49m\u001b[43m,\u001b[49m\n\u001b[1;32m    875\u001b[0m \u001b[43m    \u001b[49m\u001b[43mengine\u001b[49m\u001b[38;5;241;43m=\u001b[39;49m\u001b[38;5;124;43m\"\u001b[39;49m\u001b[38;5;124;43mzarr\u001b[39;49m\u001b[38;5;124;43m\"\u001b[39;49m\u001b[43m,\u001b[49m\n\u001b[1;32m    876\u001b[0m \u001b[43m    \u001b[49m\u001b[43mchunks\u001b[49m\u001b[38;5;241;43m=\u001b[39;49m\u001b[43mchunks\u001b[49m\u001b[43m,\u001b[49m\n\u001b[1;32m    877\u001b[0m \u001b[43m    \u001b[49m\u001b[43mdrop_variables\u001b[49m\u001b[38;5;241;43m=\u001b[39;49m\u001b[43mdrop_variables\u001b[49m\u001b[43m,\u001b[49m\n\u001b[1;32m    878\u001b[0m \u001b[43m    \u001b[49m\u001b[43mchunked_array_type\u001b[49m\u001b[38;5;241;43m=\u001b[39;49m\u001b[43mchunked_array_type\u001b[49m\u001b[43m,\u001b[49m\n\u001b[1;32m    879\u001b[0m \u001b[43m    \u001b[49m\u001b[43mfrom_array_kwargs\u001b[49m\u001b[38;5;241;43m=\u001b[39;49m\u001b[43mfrom_array_kwargs\u001b[49m\u001b[43m,\u001b[49m\n\u001b[1;32m    880\u001b[0m \u001b[43m    \u001b[49m\u001b[43mbackend_kwargs\u001b[49m\u001b[38;5;241;43m=\u001b[39;49m\u001b[43mbackend_kwargs\u001b[49m\u001b[43m,\u001b[49m\n\u001b[1;32m    881\u001b[0m \u001b[43m    \u001b[49m\u001b[43mdecode_timedelta\u001b[49m\u001b[38;5;241;43m=\u001b[39;49m\u001b[43mdecode_timedelta\u001b[49m\u001b[43m,\u001b[49m\n\u001b[1;32m    882\u001b[0m \u001b[43m    \u001b[49m\u001b[43muse_cftime\u001b[49m\u001b[38;5;241;43m=\u001b[39;49m\u001b[43muse_cftime\u001b[49m\u001b[43m,\u001b[49m\n\u001b[1;32m    883\u001b[0m \u001b[43m    \u001b[49m\u001b[43mzarr_version\u001b[49m\u001b[38;5;241;43m=\u001b[39;49m\u001b[43mzarr_version\u001b[49m\u001b[43m,\u001b[49m\n\u001b[1;32m    884\u001b[0m \u001b[43m\u001b[49m\u001b[43m)\u001b[49m\n\u001b[1;32m    885\u001b[0m \u001b[38;5;28;01mreturn\u001b[39;00m ds\n",
      "File \u001b[0;32m~/opt/anaconda3/envs/mres2/lib/python3.10/site-packages/xarray/backends/api.py:552\u001b[0m, in \u001b[0;36mopen_dataset\u001b[0;34m(filename_or_obj, engine, chunks, cache, decode_cf, mask_and_scale, decode_times, decode_timedelta, use_cftime, concat_characters, decode_coords, drop_variables, inline_array, chunked_array_type, from_array_kwargs, backend_kwargs, **kwargs)\u001b[0m\n\u001b[1;32m    549\u001b[0m \u001b[38;5;28;01mif\u001b[39;00m from_array_kwargs \u001b[38;5;129;01mis\u001b[39;00m \u001b[38;5;28;01mNone\u001b[39;00m:\n\u001b[1;32m    550\u001b[0m     from_array_kwargs \u001b[38;5;241m=\u001b[39m {}\n\u001b[0;32m--> 552\u001b[0m backend \u001b[38;5;241m=\u001b[39m \u001b[43mplugins\u001b[49m\u001b[38;5;241;43m.\u001b[39;49m\u001b[43mget_backend\u001b[49m\u001b[43m(\u001b[49m\u001b[43mengine\u001b[49m\u001b[43m)\u001b[49m\n\u001b[1;32m    554\u001b[0m decoders \u001b[38;5;241m=\u001b[39m _resolve_decoders_kwargs(\n\u001b[1;32m    555\u001b[0m     decode_cf,\n\u001b[1;32m    556\u001b[0m     open_backend_dataset_parameters\u001b[38;5;241m=\u001b[39mbackend\u001b[38;5;241m.\u001b[39mopen_dataset_parameters,\n\u001b[0;32m   (...)\u001b[0m\n\u001b[1;32m    562\u001b[0m     decode_coords\u001b[38;5;241m=\u001b[39mdecode_coords,\n\u001b[1;32m    563\u001b[0m )\n\u001b[1;32m    565\u001b[0m overwrite_encoded_chunks \u001b[38;5;241m=\u001b[39m kwargs\u001b[38;5;241m.\u001b[39mpop(\u001b[38;5;124m\"\u001b[39m\u001b[38;5;124moverwrite_encoded_chunks\u001b[39m\u001b[38;5;124m\"\u001b[39m, \u001b[38;5;28;01mNone\u001b[39;00m)\n",
      "File \u001b[0;32m~/opt/anaconda3/envs/mres2/lib/python3.10/site-packages/xarray/backends/plugins.py:205\u001b[0m, in \u001b[0;36mget_backend\u001b[0;34m(engine)\u001b[0m\n\u001b[1;32m    203\u001b[0m     engines \u001b[38;5;241m=\u001b[39m list_engines()\n\u001b[1;32m    204\u001b[0m     \u001b[38;5;28;01mif\u001b[39;00m engine \u001b[38;5;129;01mnot\u001b[39;00m \u001b[38;5;129;01min\u001b[39;00m engines:\n\u001b[0;32m--> 205\u001b[0m         \u001b[38;5;28;01mraise\u001b[39;00m \u001b[38;5;167;01mValueError\u001b[39;00m(\n\u001b[1;32m    206\u001b[0m             \u001b[38;5;124mf\u001b[39m\u001b[38;5;124m\"\u001b[39m\u001b[38;5;124munrecognized engine \u001b[39m\u001b[38;5;132;01m{\u001b[39;00mengine\u001b[38;5;132;01m}\u001b[39;00m\u001b[38;5;124m must be one of: \u001b[39m\u001b[38;5;132;01m{\u001b[39;00m\u001b[38;5;28mlist\u001b[39m(engines)\u001b[38;5;132;01m}\u001b[39;00m\u001b[38;5;124m\"\u001b[39m\n\u001b[1;32m    207\u001b[0m         )\n\u001b[1;32m    208\u001b[0m     backend \u001b[38;5;241m=\u001b[39m engines[engine]\n\u001b[1;32m    209\u001b[0m \u001b[38;5;28;01melif\u001b[39;00m \u001b[38;5;28misinstance\u001b[39m(engine, \u001b[38;5;28mtype\u001b[39m) \u001b[38;5;129;01mand\u001b[39;00m \u001b[38;5;28missubclass\u001b[39m(engine, BackendEntrypoint):\n",
      "\u001b[0;31mValueError\u001b[0m: unrecognized engine zarr must be one of: ['scipy', 'store']"
     ]
    }
   ],
   "source": [
    "import fsspec\n",
    "\n",
    "def get_dataset(path, base_url=\"https://g-402b74.00888.8540.data.globus.org\"):\n",
    "    mapper = fsspec.get_mapper(f\"{base_url}/{path}.zarr\")\n",
    "    return xr.open_zarr(mapper, consolidated=True)\n",
    "\n",
    "eddy_high_res = get_dataset('eddy/high_res').isel(run=0)\n",
    "jet_high_res = get_dataset('jet/high_res').isel(run=0)\n",
    "\n",
    "plt.figure(figsize=(12,5)).suptitle(\"Final-timestep upper PV snapshots\")\n",
    "plt.subplot(121); eddy_high_res.q.isel(lev=0, time=-1).plot(); plt.title(\"Eddy config\")\n",
    "plt.subplot(122);  jet_high_res.q.isel(lev=0, time=-1).plot(); plt.title( \"Jet config\")\n",
    "plt.tight_layout()"
   ]
  },
  {
   "cell_type": "code",
   "execution_count": null,
   "metadata": {},
   "outputs": [],
   "source": []
  }
 ],
 "metadata": {
  "kernelspec": {
   "display_name": "mres2",
   "language": "python",
   "name": "python3"
  },
  "language_info": {
   "codemirror_mode": {
    "name": "ipython",
    "version": 3
   },
   "file_extension": ".py",
   "mimetype": "text/x-python",
   "name": "python",
   "nbconvert_exporter": "python",
   "pygments_lexer": "ipython3",
   "version": "3.10.14"
  }
 },
 "nbformat": 4,
 "nbformat_minor": 2
}
